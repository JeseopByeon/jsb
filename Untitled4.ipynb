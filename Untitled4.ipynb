{
 "cells": [
  {
   "cell_type": "code",
   "execution_count": 2,
   "id": "6c60d4a7",
   "metadata": {},
   "outputs": [],
   "source": [
    "import pdftotree\n",
    "import os"
   ]
  },
  {
   "cell_type": "code",
   "execution_count": 3,
   "id": "306306f8",
   "metadata": {},
   "outputs": [
    {
     "ename": "TypeError",
     "evalue": "list indices must be integers or slices, not PDF",
     "output_type": "error",
     "traceback": [
      "\u001b[1;31m---------------------------------------------------------------------------\u001b[0m",
      "\u001b[1;31mTypeError\u001b[0m                                 Traceback (most recent call last)",
      "\u001b[1;32m~\\AppData\\Local\\Temp\\ipykernel_25232\\1681054689.py\u001b[0m in \u001b[0;36m<module>\u001b[1;34m\u001b[0m\n\u001b[0;32m      1\u001b[0m \u001b[1;32mimport\u001b[0m \u001b[0mpdfplumber\u001b[0m\u001b[1;33m\u001b[0m\u001b[1;33m\u001b[0m\u001b[0m\n\u001b[0;32m      2\u001b[0m \u001b[0mpdf\u001b[0m \u001b[1;33m=\u001b[0m \u001b[0mpdfplumber\u001b[0m\u001b[1;33m.\u001b[0m\u001b[0mopen\u001b[0m\u001b[1;33m(\u001b[0m\u001b[1;34m'C:\\\\Users\\\\starc\\\\[실작업]2019년 해양수산부 주요통계20200320135811.pdf'\u001b[0m\u001b[1;33m)\u001b[0m\u001b[1;33m\u001b[0m\u001b[1;33m\u001b[0m\u001b[0m\n\u001b[1;32m----> 3\u001b[1;33m \u001b[0mp0\u001b[0m \u001b[1;33m=\u001b[0m \u001b[0mpdf\u001b[0m\u001b[1;33m.\u001b[0m\u001b[0mpages\u001b[0m\u001b[1;33m[\u001b[0m\u001b[0mpdf\u001b[0m\u001b[1;33m]\u001b[0m \u001b[1;31m# go to the required page\u001b[0m\u001b[1;33m\u001b[0m\u001b[1;33m\u001b[0m\u001b[0m\n\u001b[0m\u001b[0;32m      4\u001b[0m \u001b[1;33m\u001b[0m\u001b[0m\n\u001b[0;32m      5\u001b[0m \u001b[0mtables\u001b[0m \u001b[1;33m=\u001b[0m \u001b[0mp0\u001b[0m\u001b[1;33m.\u001b[0m\u001b[0mdebug_tablefinder\u001b[0m\u001b[1;33m(\u001b[0m\u001b[1;33m)\u001b[0m \u001b[1;31m# list of tables which pdfplumber identifies\u001b[0m\u001b[1;33m\u001b[0m\u001b[1;33m\u001b[0m\u001b[0m\n",
      "\u001b[1;31mTypeError\u001b[0m: list indices must be integers or slices, not PDF"
     ]
    }
   ],
   "source": [
    "\n",
    "import pdfplumber\n",
    "pdf = pdfplumber.open('C:\\\\Users\\\\starc\\\\[실작업]2019년 해양수산부 주요통계20200320135811.pdf')\n",
    "p0 = pdf.pages[pdf] # go to the required page\n",
    "\n",
    "tables = p0.debug_tablefinder() # list of tables which pdfplumber identifies\n",
    "req_table = tables.tables[i] # Suppose you want to use ith table\n",
    "\n",
    "req_table.bbox # gives you the bounding box of the table (coordinates)"
   ]
  },
  {
   "cell_type": "code",
   "execution_count": 4,
   "id": "d2adb73f",
   "metadata": {},
   "outputs": [
    {
     "ename": "NameError",
     "evalue": "name 'aw' is not defined",
     "output_type": "error",
     "traceback": [
      "\u001b[1;31m---------------------------------------------------------------------------\u001b[0m",
      "\u001b[1;31mNameError\u001b[0m                                 Traceback (most recent call last)",
      "\u001b[1;32m~\\AppData\\Local\\Temp\\ipykernel_25232\\3587844959.py\u001b[0m in \u001b[0;36m<module>\u001b[1;34m\u001b[0m\n\u001b[0;32m      2\u001b[0m \u001b[1;31m# pip install aspose-words #\u001b[0m\u001b[1;33m\u001b[0m\u001b[1;33m\u001b[0m\u001b[1;33m\u001b[0m\u001b[0m\n\u001b[0;32m      3\u001b[0m \u001b[1;32mimport\u001b[0m \u001b[0maspose\u001b[0m\u001b[1;33m\u001b[0m\u001b[1;33m\u001b[0m\u001b[0m\n\u001b[1;32m----> 4\u001b[1;33m \u001b[0mdoc\u001b[0m \u001b[1;33m=\u001b[0m \u001b[0maw\u001b[0m\u001b[1;33m.\u001b[0m\u001b[0mDocument\u001b[0m\u001b[1;33m(\u001b[0m\u001b[1;34m\"C:\\\\Users\\\\starc\\\\OneDrive\\\\바탕 화면\\\\간행물_DB설치파일 추가\\\\[실작업]2019년 해양수산부 주요통계20200320135811.pdf\"\u001b[0m\u001b[1;33m)\u001b[0m\u001b[1;33m\u001b[0m\u001b[1;33m\u001b[0m\u001b[0m\n\u001b[0m\u001b[0;32m      5\u001b[0m \u001b[0mdoc\u001b[0m\u001b[1;33m.\u001b[0m\u001b[0msave\u001b[0m\u001b[1;33m(\u001b[0m\u001b[1;34m\"C:\\\\Users\\\\starc\\\\OneDrive\\\\바탕 화면\\\\간행물_DB설치파일 추가\\\\presentation.html\"\u001b[0m\u001b[1;33m)\u001b[0m\u001b[1;33m\u001b[0m\u001b[1;33m\u001b[0m\u001b[0m\n\u001b[0;32m      6\u001b[0m \u001b[1;33m\u001b[0m\u001b[0m\n",
      "\u001b[1;31mNameError\u001b[0m: name 'aw' is not defined"
     ]
    }
   ],
   "source": [
    "# pip install aspose.slides\n",
    "# pip install aspose-words # \n",
    "import aspose\n",
    "doc = aw.Document(\"C:\\\\Users\\\\starc\\\\OneDrive\\\\바탕 화면\\\\간행물_DB설치파일 추가\\\\[실작업]2019년 해양수산부 주요통계20200320135811.pdf\")\n",
    "doc.save(\"C:\\\\Users\\\\starc\\\\OneDrive\\\\바탕 화면\\\\간행물_DB설치파일 추가\\\\presentation.html\")\n",
    "\n",
    "with slides.Presentation() as presentation:\n",
    "    presentation.slides.remove_at(0)\n",
    "    presentation.slides.add_from_pdf(\"C:\\\\Users\\\\starc\\\\OneDrive\\\\바탕 화면\\\\간행물_DB설치파일 추가\\\\[실작업]2019년 해양수산부 주요통계20200320135811.pdf\")\n",
    "    presentation.save(\"C:\\\\Users\\\\starc\\\\OneDrive\\\\바탕 화면\\\\간행물_DB설치파일 추가\\\\presentation.html\", slides.export.SaveFormat.HTML5)"
   ]
  },
  {
   "cell_type": "code",
   "execution_count": null,
   "id": "ec015b69",
   "metadata": {},
   "outputs": [],
   "source": []
  },
  {
   "cell_type": "code",
   "execution_count": null,
   "id": "d9118dd7",
   "metadata": {},
   "outputs": [],
   "source": []
  }
 ],
 "metadata": {
  "kernelspec": {
   "display_name": "Python 3 (ipykernel)",
   "language": "python",
   "name": "python3"
  },
  "language_info": {
   "codemirror_mode": {
    "name": "ipython",
    "version": 3
   },
   "file_extension": ".py",
   "mimetype": "text/x-python",
   "name": "python",
   "nbconvert_exporter": "python",
   "pygments_lexer": "ipython3",
   "version": "3.7.13"
  }
 },
 "nbformat": 4,
 "nbformat_minor": 5
}
